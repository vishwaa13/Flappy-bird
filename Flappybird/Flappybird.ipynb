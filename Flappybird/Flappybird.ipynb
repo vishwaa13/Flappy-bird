{
 "cells": [
  {
   "cell_type": "code",
   "execution_count": 1,
   "metadata": {},
   "outputs": [
    {
     "name": "stdout",
     "output_type": "stream",
     "text": [
      "Collecting pygame\n",
      "  Downloading pygame-1.9.6-cp37-cp37m-win_amd64.whl (4.3 MB)\n",
      "Installing collected packages: pygame\n",
      "Successfully installed pygame-1.9.6\n",
      "Note: you may need to restart the kernel to use updated packages.\n"
     ]
    }
   ],
   "source": [
    "pip install pygame"
   ]
  },
  {
   "cell_type": "code",
   "execution_count": 1,
   "metadata": {},
   "outputs": [
    {
     "name": "stdout",
     "output_type": "stream",
     "text": [
      "pygame 1.9.6\n",
      "Hello from the pygame community. https://www.pygame.org/contribute.html\n"
     ]
    },
    {
     "ename": "SystemExit",
     "evalue": "",
     "output_type": "error",
     "traceback": [
      "An exception has occurred, use %tb to see the full traceback.\n",
      "\u001b[1;31mSystemExit\u001b[0m\n"
     ]
    },
    {
     "name": "stderr",
     "output_type": "stream",
     "text": [
      "C:\\Users\\Dell\\Anaconda3\\lib\\site-packages\\IPython\\core\\interactiveshell.py:3339: UserWarning: To exit: use 'exit', 'quit', or Ctrl-D.\n",
      "  warn(\"To exit: use 'exit', 'quit', or Ctrl-D.\", stacklevel=1)\n"
     ]
    }
   ],
   "source": [
    "import pygame\n",
    "import sys\n",
    "import random\n",
    "\n",
    "pygame.init()\n",
    "clock = pygame.time.Clock()\n",
    "\n",
    "gravity = 0.25\n",
    "bird_movement = 0\n",
    "\n",
    "\n",
    "\n",
    "screen = pygame.display.set_mode((256,574))\n",
    "bg_surface = pygame.image.load(r'C:\\Users\\Dell\\Documents\\coding\\Flappybird\\flappy-bird-assets-master\\sprites\\background-day.png')\n",
    "# bg_surface = pygame.transform.scale2x(bg_surface)\n",
    "floor_surface = pygame.image.load(r'C:\\Users\\Dell\\Documents\\coding\\Flappybird\\flappy-bird-assets-master\\sprites\\base.png')\n",
    "floor_x_pos = 200\n",
    "\n",
    "bird_surface = pygame.image.load(r'C:\\Users\\Dell\\Documents\\coding\\Flappybird\\flappy-bird-assets-master\\sprites\\bluebird-midflap.png').convert()\n",
    "bird_rect = bird_surface.get_rect(center = (50,256))\n",
    "\n",
    "\n",
    "pipe_surface = pygame.image.load(r'C:\\Users\\Dell\\Documents\\coding\\Flappybird\\flappy-bird-assets-master\\sprites\\pipe-green.png')\n",
    "pipe_list = []\n",
    "SPAWNPIPE = pygame.USEREVENT\n",
    "pygame.time.set_timer(SPAWNPIPE,1200)\n",
    "pipe_height = [400,450,350]\n",
    "game_active = True\n",
    "\n",
    "def create_pipe():\n",
    "    random_pipe_pos = random.choice(pipe_height)\n",
    "    bottom_pipe = pipe_surface.get_rect(midtop = (350,random_pipe_pos))\n",
    "    top_pipe = pipe_surface.get_rect(midbottom = (350,random_pipe_pos - 200))\n",
    "    return bottom_pipe,top_pipe\n",
    "\n",
    "def move_pipes(pipes):\n",
    "    for pipe in pipes:\n",
    "        pipe.centerx  -= 5\n",
    "    return pipes                      \n",
    "\n",
    "\n",
    "def draw_floor():\n",
    "  screen.blit(floor_surface,(floor_x_pos,500))\n",
    "  screen.blit(floor_surface,(floor_x_pos+200,500))\n",
    "\n",
    "def draw_pipes(pipes):\n",
    "    for pipe in pipes:\n",
    "        if(pipe.bottom>=574):\n",
    "            screen.blit(pipe_surface,pipe)\n",
    "        else:\n",
    "            flip_pipe = pygame.transform.flip(pipe_surface,False,True)\n",
    "            screen.blit(flip_pipe,pipe)\n",
    "\n",
    "            \n",
    "\n",
    "def check_collision(pipes):\n",
    "    for pipe in pipes:\n",
    "        if bird_rect.colliderect(pipe):\n",
    "            return False\n",
    "    if bird_rect.top<=-50 or bird_rect.bottom>=500:\n",
    "        return False\n",
    "    \n",
    "    return True\n",
    "        \n",
    "game_active =True          \n",
    "while True:\n",
    "  for event in pygame.event.get():\n",
    "    if event.type == pygame.QUIT:\n",
    "      pygame.quit()\n",
    "      sys.exit()\n",
    "    if event.type == pygame.KEYDOWN:\n",
    "        if event.key == pygame.K_SPACE and game_active:\n",
    "            bird_movement = 0\n",
    "            bird_movement-=6\n",
    "    if event.type == SPAWNPIPE:\n",
    "        pipe_list.extend(create_pipe())\n",
    "    \n",
    "    if event.type == pygame.K_SPACE and game_active==False:\n",
    "        game_active = True\n",
    "        pipe_list.clear()\n",
    "        bird_rect.center = (50,256)\n",
    "    \n",
    "    if game_active == True:   \n",
    "        screen.blit(bg_surface,(0,100))\n",
    "        screen.blit(bird_surface,bird_rect)\n",
    "        \n",
    "        game_active = check_collision(pipe_list)\n",
    "        \n",
    "        pipe_list = move_pipes(pipe_list)\n",
    "        floor_x_pos -= 100\n",
    "        bird_movement+=gravity \n",
    "        bird_rect.centery += bird_movement\n",
    "  # screen.blit(floor_surface,(floor_x_pos,850))\n",
    "  draw_floor()\n",
    "  draw_pipes(pipe_list)\n",
    "  if floor_x_pos <= 200:\n",
    "    floor_x_pos = 0\n",
    "  \n",
    "  \n",
    "  \n",
    "  pygame.display.update()\n",
    "  clock.tick(120)"
   ]
  }
 ],
 "metadata": {
  "kernelspec": {
   "display_name": "Python 3",
   "language": "python",
   "name": "python3"
  },
  "language_info": {
   "codemirror_mode": {
    "name": "ipython",
    "version": 3
   },
   "file_extension": ".py",
   "mimetype": "text/x-python",
   "name": "python",
   "nbconvert_exporter": "python",
   "pygments_lexer": "ipython3",
   "version": "3.7.3"
  }
 },
 "nbformat": 4,
 "nbformat_minor": 4
}
